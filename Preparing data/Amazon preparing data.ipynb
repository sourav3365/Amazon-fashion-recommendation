{
 "cells": [
  {
   "cell_type": "code",
   "execution_count": 1,
   "metadata": {},
   "outputs": [],
   "source": [
    "import pandas as pd\n",
    "import numpy as np\n",
    "import matplotlib.pyplot as plt\n",
    "import seaborn as sns\n",
    "from PIL import Image\n",
    "import requests\n",
    "from io import BytesIO\n",
    "import pickle\n",
    "from tqdm.notebook import tqdm\n",
    "from difflib import SequenceMatcher"
   ]
  },
  {
   "cell_type": "code",
   "execution_count": 4,
   "metadata": {},
   "outputs": [],
   "source": [
    "#Displaying all the rows of the dataframe\n",
    "pd.set_option('display.max_rows', None)"
   ]
  },
  {
   "cell_type": "markdown",
   "metadata": {},
   "source": [
    "<h1>1. Loading the data</h1>\n",
    "<ol>\n",
    "<li>Load the json file</li>\n",
    "<li>Print 10 sample rows from the dataframe</li>\n",
    "<li>Check the number of features</li>\n",
    "<li>Check the number of rows</li>\n",
    "<li>Describing the dataframe</li>\n",
    "</ol>"
   ]
  },
  {
   "cell_type": "code",
   "execution_count": 2,
   "metadata": {},
   "outputs": [],
   "source": [
    "#Loading the json file\n",
    "\n",
    "data = pd.read_json('tops_fashion.json')"
   ]
  },
  {
   "cell_type": "code",
   "execution_count": 3,
   "metadata": {
    "scrolled": true
   },
   "outputs": [
    {
     "data": {
      "text/html": [
       "<div>\n",
       "<style scoped>\n",
       "    .dataframe tbody tr th:only-of-type {\n",
       "        vertical-align: middle;\n",
       "    }\n",
       "\n",
       "    .dataframe tbody tr th {\n",
       "        vertical-align: top;\n",
       "    }\n",
       "\n",
       "    .dataframe thead th {\n",
       "        text-align: right;\n",
       "    }\n",
       "</style>\n",
       "<table border=\"1\" class=\"dataframe\">\n",
       "  <thead>\n",
       "    <tr style=\"text-align: right;\">\n",
       "      <th></th>\n",
       "      <th>sku</th>\n",
       "      <th>asin</th>\n",
       "      <th>product_type_name</th>\n",
       "      <th>formatted_price</th>\n",
       "      <th>author</th>\n",
       "      <th>color</th>\n",
       "      <th>brand</th>\n",
       "      <th>publisher</th>\n",
       "      <th>availability</th>\n",
       "      <th>reviews</th>\n",
       "      <th>large_image_url</th>\n",
       "      <th>availability_type</th>\n",
       "      <th>small_image_url</th>\n",
       "      <th>editorial_review</th>\n",
       "      <th>title</th>\n",
       "      <th>model</th>\n",
       "      <th>medium_image_url</th>\n",
       "      <th>manufacturer</th>\n",
       "      <th>editorial_reivew</th>\n",
       "    </tr>\n",
       "  </thead>\n",
       "  <tbody>\n",
       "    <tr>\n",
       "      <th>111548</th>\n",
       "      <td>None</td>\n",
       "      <td>B06ZY8S9WV</td>\n",
       "      <td>SHIRT</td>\n",
       "      <td>$265.00</td>\n",
       "      <td>None</td>\n",
       "      <td>Ivory/Navy</td>\n",
       "      <td>Elizabeth and James</td>\n",
       "      <td>None</td>\n",
       "      <td>Usually ships in 24 hours</td>\n",
       "      <td>[False, https://www.amazon.com/reviews/iframe?...</td>\n",
       "      <td>https://images-na.ssl-images-amazon.com/images...</td>\n",
       "      <td>now</td>\n",
       "      <td>https://images-na.ssl-images-amazon.com/images...</td>\n",
       "      <td>NaN</td>\n",
       "      <td>Elizabeth and James Women's Wind Veronique Sil...</td>\n",
       "      <td>None</td>\n",
       "      <td>https://images-na.ssl-images-amazon.com/images...</td>\n",
       "      <td>None</td>\n",
       "      <td>A gathered chiffon overlay that falls to an as...</td>\n",
       "    </tr>\n",
       "    <tr>\n",
       "      <th>29336</th>\n",
       "      <td>None</td>\n",
       "      <td>B071JDLPYN</td>\n",
       "      <td>SHIRT</td>\n",
       "      <td>None</td>\n",
       "      <td>None</td>\n",
       "      <td>None</td>\n",
       "      <td>xianwei</td>\n",
       "      <td>None</td>\n",
       "      <td>None</td>\n",
       "      <td>[False, https://www.amazon.com/reviews/iframe?...</td>\n",
       "      <td>https://images-na.ssl-images-amazon.com/images...</td>\n",
       "      <td>None</td>\n",
       "      <td>https://images-na.ssl-images-amazon.com/images...</td>\n",
       "      <td>NaN</td>\n",
       "      <td>Women's Short Neck Sleeve Karlsruhe Cotton T-S...</td>\n",
       "      <td>None</td>\n",
       "      <td>https://images-na.ssl-images-amazon.com/images...</td>\n",
       "      <td>None</td>\n",
       "      <td>:SIZING (INCH):S: Chest 18\" Length 24.5\" M: Ch...</td>\n",
       "    </tr>\n",
       "    <tr>\n",
       "      <th>5471</th>\n",
       "      <td>None</td>\n",
       "      <td>B01M68XA6C</td>\n",
       "      <td>SHIRT</td>\n",
       "      <td>None</td>\n",
       "      <td>None</td>\n",
       "      <td>Black</td>\n",
       "      <td>Black Market Art</td>\n",
       "      <td>Black Market Art</td>\n",
       "      <td>None</td>\n",
       "      <td>[True, https://www.amazon.com/reviews/iframe?a...</td>\n",
       "      <td>https://images-na.ssl-images-amazon.com/images...</td>\n",
       "      <td>None</td>\n",
       "      <td>https://images-na.ssl-images-amazon.com/images...</td>\n",
       "      <td>NaN</td>\n",
       "      <td>Women's Dead Queen by Charlie Medina Day of th...</td>\n",
       "      <td>W-DEADQUEEN</td>\n",
       "      <td>https://images-na.ssl-images-amazon.com/images...</td>\n",
       "      <td>Black Market Art</td>\n",
       "      <td>&lt;p&gt;Preshrunk black tee. Premium 100% cotton fa...</td>\n",
       "    </tr>\n",
       "    <tr>\n",
       "      <th>82730</th>\n",
       "      <td>None</td>\n",
       "      <td>B01N5NG2RW</td>\n",
       "      <td>SHIRT</td>\n",
       "      <td>None</td>\n",
       "      <td>None</td>\n",
       "      <td>None</td>\n",
       "      <td>SheIn</td>\n",
       "      <td>None</td>\n",
       "      <td>None</td>\n",
       "      <td>[True, https://www.amazon.com/reviews/iframe?a...</td>\n",
       "      <td>https://images-na.ssl-images-amazon.com/images...</td>\n",
       "      <td>None</td>\n",
       "      <td>https://images-na.ssl-images-amazon.com/images...</td>\n",
       "      <td>NaN</td>\n",
       "      <td>SheIn Women's Cute Striped Peter Pan Collar Sh...</td>\n",
       "      <td>None</td>\n",
       "      <td>https://images-na.ssl-images-amazon.com/images...</td>\n",
       "      <td>None</td>\n",
       "      <td>Size Chart:&lt;br&gt; X-Small: Bust: 110cm/37.8\", Le...</td>\n",
       "    </tr>\n",
       "    <tr>\n",
       "      <th>161482</th>\n",
       "      <td>None</td>\n",
       "      <td>B01MG2EMBE</td>\n",
       "      <td>SHIRT</td>\n",
       "      <td>None</td>\n",
       "      <td>None</td>\n",
       "      <td>Grey, Gray, Charcoal, White</td>\n",
       "      <td>Sorority Letters Shop</td>\n",
       "      <td>None</td>\n",
       "      <td>None</td>\n",
       "      <td>[False, https://www.amazon.com/reviews/iframe?...</td>\n",
       "      <td>https://images-na.ssl-images-amazon.com/images...</td>\n",
       "      <td>None</td>\n",
       "      <td>https://images-na.ssl-images-amazon.com/images...</td>\n",
       "      <td>NaN</td>\n",
       "      <td>Gamma Phi Beta Varsity Long Sleeve T-Shirt</td>\n",
       "      <td>None</td>\n",
       "      <td>https://images-na.ssl-images-amazon.com/images...</td>\n",
       "      <td>None</td>\n",
       "      <td>Our Gamma Phi Beta long sleeve v-neck comes in...</td>\n",
       "    </tr>\n",
       "    <tr>\n",
       "      <th>131169</th>\n",
       "      <td>None</td>\n",
       "      <td>B074JVXBSF</td>\n",
       "      <td>SHIRT</td>\n",
       "      <td>None</td>\n",
       "      <td>None</td>\n",
       "      <td>Red</td>\n",
       "      <td>Dorahome</td>\n",
       "      <td>None</td>\n",
       "      <td>None</td>\n",
       "      <td>[False, https://www.amazon.com/reviews/iframe?...</td>\n",
       "      <td>https://images-na.ssl-images-amazon.com/images...</td>\n",
       "      <td>None</td>\n",
       "      <td>https://images-na.ssl-images-amazon.com/images...</td>\n",
       "      <td>NaN</td>\n",
       "      <td>Dorahome Women's This Is My Too Tired To Funct...</td>\n",
       "      <td>None</td>\n",
       "      <td>https://images-na.ssl-images-amazon.com/images...</td>\n",
       "      <td>None</td>\n",
       "      <td>The T Shirt Will Be The Best And Sincere Gift ...</td>\n",
       "    </tr>\n",
       "    <tr>\n",
       "      <th>145107</th>\n",
       "      <td>None</td>\n",
       "      <td>B01FP04E9M</td>\n",
       "      <td>SHIRT</td>\n",
       "      <td>None</td>\n",
       "      <td>None</td>\n",
       "      <td>Coral</td>\n",
       "      <td>Kerusso</td>\n",
       "      <td>None</td>\n",
       "      <td>None</td>\n",
       "      <td>[True, https://www.amazon.com/reviews/iframe?a...</td>\n",
       "      <td>https://images-na.ssl-images-amazon.com/images...</td>\n",
       "      <td>None</td>\n",
       "      <td>https://images-na.ssl-images-amazon.com/images...</td>\n",
       "      <td>NaN</td>\n",
       "      <td>Wise Owl Christian T-Shirt</td>\n",
       "      <td>APT2352</td>\n",
       "      <td>https://images-na.ssl-images-amazon.com/images...</td>\n",
       "      <td>None</td>\n",
       "      <td>There is only one path that leads to a life fi...</td>\n",
       "    </tr>\n",
       "    <tr>\n",
       "      <th>126109</th>\n",
       "      <td>None</td>\n",
       "      <td>B074WKZS37</td>\n",
       "      <td>SHIRT</td>\n",
       "      <td>$19.97</td>\n",
       "      <td>None</td>\n",
       "      <td>Pink Rose</td>\n",
       "      <td>Liz Claiborne New York</td>\n",
       "      <td>None</td>\n",
       "      <td>Usually ships in 24 hours</td>\n",
       "      <td>[False, https://www.amazon.com/reviews/iframe?...</td>\n",
       "      <td>https://images-na.ssl-images-amazon.com/images...</td>\n",
       "      <td>now</td>\n",
       "      <td>https://images-na.ssl-images-amazon.com/images...</td>\n",
       "      <td>NaN</td>\n",
       "      <td>Liz Claiborne NY Striped Tank_w Lace Overlay A...</td>\n",
       "      <td>None</td>\n",
       "      <td>https://images-na.ssl-images-amazon.com/images...</td>\n",
       "      <td>None</td>\n",
       "      <td>&lt;P&gt;Better together. Liz Claiborne breathes new...</td>\n",
       "    </tr>\n",
       "    <tr>\n",
       "      <th>49824</th>\n",
       "      <td>None</td>\n",
       "      <td>B01EQSXF6W</td>\n",
       "      <td>UNDERWEAR</td>\n",
       "      <td>None</td>\n",
       "      <td>None</td>\n",
       "      <td>None</td>\n",
       "      <td>Anboo</td>\n",
       "      <td>None</td>\n",
       "      <td>None</td>\n",
       "      <td>[False, https://www.amazon.com/reviews/iframe?...</td>\n",
       "      <td>https://images-na.ssl-images-amazon.com/images...</td>\n",
       "      <td>None</td>\n",
       "      <td>https://images-na.ssl-images-amazon.com/images...</td>\n",
       "      <td>NaN</td>\n",
       "      <td>Anboo Women Boho Tank Bustier Bra Vest Crop To...</td>\n",
       "      <td>Generic -NDJ79</td>\n",
       "      <td>https://images-na.ssl-images-amazon.com/images...</td>\n",
       "      <td>None</td>\n",
       "      <td>&lt;br&gt;Size S &lt;br&gt;Bust 66cm/26.0\" &lt;br&gt;Length 38cm...</td>\n",
       "    </tr>\n",
       "    <tr>\n",
       "      <th>78752</th>\n",
       "      <td>None</td>\n",
       "      <td>B073WVCY5C</td>\n",
       "      <td>SHIRT</td>\n",
       "      <td>None</td>\n",
       "      <td>None</td>\n",
       "      <td>None</td>\n",
       "      <td>Brawdress</td>\n",
       "      <td>None</td>\n",
       "      <td>None</td>\n",
       "      <td>[False, https://www.amazon.com/reviews/iframe?...</td>\n",
       "      <td>https://images-na.ssl-images-amazon.com/images...</td>\n",
       "      <td>None</td>\n",
       "      <td>https://images-na.ssl-images-amazon.com/images...</td>\n",
       "      <td>NaN</td>\n",
       "      <td>Brawdress Women Lace Up V Neck Hollow Out Pure...</td>\n",
       "      <td>None</td>\n",
       "      <td>https://images-na.ssl-images-amazon.com/images...</td>\n",
       "      <td>None</td>\n",
       "      <td>Notice: &lt;br /&gt;Due to the different monitor and...</td>\n",
       "    </tr>\n",
       "  </tbody>\n",
       "</table>\n",
       "</div>"
      ],
      "text/plain": [
       "         sku        asin product_type_name formatted_price author  \\\n",
       "111548  None  B06ZY8S9WV             SHIRT         $265.00   None   \n",
       "29336   None  B071JDLPYN             SHIRT            None   None   \n",
       "5471    None  B01M68XA6C             SHIRT            None   None   \n",
       "82730   None  B01N5NG2RW             SHIRT            None   None   \n",
       "161482  None  B01MG2EMBE             SHIRT            None   None   \n",
       "131169  None  B074JVXBSF             SHIRT            None   None   \n",
       "145107  None  B01FP04E9M             SHIRT            None   None   \n",
       "126109  None  B074WKZS37             SHIRT          $19.97   None   \n",
       "49824   None  B01EQSXF6W         UNDERWEAR            None   None   \n",
       "78752   None  B073WVCY5C             SHIRT            None   None   \n",
       "\n",
       "                              color                   brand         publisher  \\\n",
       "111548                   Ivory/Navy     Elizabeth and James              None   \n",
       "29336                          None                 xianwei              None   \n",
       "5471                          Black        Black Market Art  Black Market Art   \n",
       "82730                          None                   SheIn              None   \n",
       "161482  Grey, Gray, Charcoal, White   Sorority Letters Shop              None   \n",
       "131169                          Red                Dorahome              None   \n",
       "145107                        Coral                 Kerusso              None   \n",
       "126109                    Pink Rose  Liz Claiborne New York              None   \n",
       "49824                          None                   Anboo              None   \n",
       "78752                          None               Brawdress              None   \n",
       "\n",
       "                     availability  \\\n",
       "111548  Usually ships in 24 hours   \n",
       "29336                        None   \n",
       "5471                         None   \n",
       "82730                        None   \n",
       "161482                       None   \n",
       "131169                       None   \n",
       "145107                       None   \n",
       "126109  Usually ships in 24 hours   \n",
       "49824                        None   \n",
       "78752                        None   \n",
       "\n",
       "                                                  reviews  \\\n",
       "111548  [False, https://www.amazon.com/reviews/iframe?...   \n",
       "29336   [False, https://www.amazon.com/reviews/iframe?...   \n",
       "5471    [True, https://www.amazon.com/reviews/iframe?a...   \n",
       "82730   [True, https://www.amazon.com/reviews/iframe?a...   \n",
       "161482  [False, https://www.amazon.com/reviews/iframe?...   \n",
       "131169  [False, https://www.amazon.com/reviews/iframe?...   \n",
       "145107  [True, https://www.amazon.com/reviews/iframe?a...   \n",
       "126109  [False, https://www.amazon.com/reviews/iframe?...   \n",
       "49824   [False, https://www.amazon.com/reviews/iframe?...   \n",
       "78752   [False, https://www.amazon.com/reviews/iframe?...   \n",
       "\n",
       "                                          large_image_url availability_type  \\\n",
       "111548  https://images-na.ssl-images-amazon.com/images...               now   \n",
       "29336   https://images-na.ssl-images-amazon.com/images...              None   \n",
       "5471    https://images-na.ssl-images-amazon.com/images...              None   \n",
       "82730   https://images-na.ssl-images-amazon.com/images...              None   \n",
       "161482  https://images-na.ssl-images-amazon.com/images...              None   \n",
       "131169  https://images-na.ssl-images-amazon.com/images...              None   \n",
       "145107  https://images-na.ssl-images-amazon.com/images...              None   \n",
       "126109  https://images-na.ssl-images-amazon.com/images...               now   \n",
       "49824   https://images-na.ssl-images-amazon.com/images...              None   \n",
       "78752   https://images-na.ssl-images-amazon.com/images...              None   \n",
       "\n",
       "                                          small_image_url editorial_review  \\\n",
       "111548  https://images-na.ssl-images-amazon.com/images...              NaN   \n",
       "29336   https://images-na.ssl-images-amazon.com/images...              NaN   \n",
       "5471    https://images-na.ssl-images-amazon.com/images...              NaN   \n",
       "82730   https://images-na.ssl-images-amazon.com/images...              NaN   \n",
       "161482  https://images-na.ssl-images-amazon.com/images...              NaN   \n",
       "131169  https://images-na.ssl-images-amazon.com/images...              NaN   \n",
       "145107  https://images-na.ssl-images-amazon.com/images...              NaN   \n",
       "126109  https://images-na.ssl-images-amazon.com/images...              NaN   \n",
       "49824   https://images-na.ssl-images-amazon.com/images...              NaN   \n",
       "78752   https://images-na.ssl-images-amazon.com/images...              NaN   \n",
       "\n",
       "                                                    title           model  \\\n",
       "111548  Elizabeth and James Women's Wind Veronique Sil...            None   \n",
       "29336   Women's Short Neck Sleeve Karlsruhe Cotton T-S...            None   \n",
       "5471    Women's Dead Queen by Charlie Medina Day of th...     W-DEADQUEEN   \n",
       "82730   SheIn Women's Cute Striped Peter Pan Collar Sh...            None   \n",
       "161482         Gamma Phi Beta Varsity Long Sleeve T-Shirt            None   \n",
       "131169  Dorahome Women's This Is My Too Tired To Funct...            None   \n",
       "145107                         Wise Owl Christian T-Shirt         APT2352   \n",
       "126109  Liz Claiborne NY Striped Tank_w Lace Overlay A...            None   \n",
       "49824   Anboo Women Boho Tank Bustier Bra Vest Crop To...  Generic -NDJ79   \n",
       "78752   Brawdress Women Lace Up V Neck Hollow Out Pure...            None   \n",
       "\n",
       "                                         medium_image_url      manufacturer  \\\n",
       "111548  https://images-na.ssl-images-amazon.com/images...              None   \n",
       "29336   https://images-na.ssl-images-amazon.com/images...              None   \n",
       "5471    https://images-na.ssl-images-amazon.com/images...  Black Market Art   \n",
       "82730   https://images-na.ssl-images-amazon.com/images...              None   \n",
       "161482  https://images-na.ssl-images-amazon.com/images...              None   \n",
       "131169  https://images-na.ssl-images-amazon.com/images...              None   \n",
       "145107  https://images-na.ssl-images-amazon.com/images...              None   \n",
       "126109  https://images-na.ssl-images-amazon.com/images...              None   \n",
       "49824   https://images-na.ssl-images-amazon.com/images...              None   \n",
       "78752   https://images-na.ssl-images-amazon.com/images...              None   \n",
       "\n",
       "                                         editorial_reivew  \n",
       "111548  A gathered chiffon overlay that falls to an as...  \n",
       "29336   :SIZING (INCH):S: Chest 18\" Length 24.5\" M: Ch...  \n",
       "5471    <p>Preshrunk black tee. Premium 100% cotton fa...  \n",
       "82730   Size Chart:<br> X-Small: Bust: 110cm/37.8\", Le...  \n",
       "161482  Our Gamma Phi Beta long sleeve v-neck comes in...  \n",
       "131169  The T Shirt Will Be The Best And Sincere Gift ...  \n",
       "145107  There is only one path that leads to a life fi...  \n",
       "126109  <P>Better together. Liz Claiborne breathes new...  \n",
       "49824   <br>Size S <br>Bust 66cm/26.0\" <br>Length 38cm...  \n",
       "78752   Notice: <br />Due to the different monitor and...  "
      ]
     },
     "execution_count": 3,
     "metadata": {},
     "output_type": "execute_result"
    }
   ],
   "source": [
    "#Displaying 10 samples from dataframe\n",
    "data.sample(10)"
   ]
  },
  {
   "cell_type": "code",
   "execution_count": 4,
   "metadata": {},
   "outputs": [
    {
     "data": {
      "text/plain": [
       "19"
      ]
     },
     "execution_count": 4,
     "metadata": {},
     "output_type": "execute_result"
    }
   ],
   "source": [
    "#Displaying the total number of features\n",
    "len(data.columns)\n",
    "\n",
    "#There are total 19 features in the dataset"
   ]
  },
  {
   "cell_type": "code",
   "execution_count": 5,
   "metadata": {},
   "outputs": [
    {
     "data": {
      "text/plain": [
       "183138"
      ]
     },
     "execution_count": 5,
     "metadata": {},
     "output_type": "execute_result"
    }
   ],
   "source": [
    "#Displaying the total number of rows\n",
    "data.shape[0]\n",
    "\n",
    "#There are total 183138 data points in the dataset"
   ]
  },
  {
   "cell_type": "markdown",
   "metadata": {},
   "source": [
    "<h1>2. Data cleaning and pre processing </h1>\n",
    "<ol>\n",
    "<li>Removing columns</li>\n",
    "<li>Removing null and duplicate rows</li>\n",
    "</ol>"
   ]
  },
  {
   "cell_type": "code",
   "execution_count": 6,
   "metadata": {
    "scrolled": true
   },
   "outputs": [
    {
     "data": {
      "text/html": [
       "<div>\n",
       "<style scoped>\n",
       "    .dataframe tbody tr th:only-of-type {\n",
       "        vertical-align: middle;\n",
       "    }\n",
       "\n",
       "    .dataframe tbody tr th {\n",
       "        vertical-align: top;\n",
       "    }\n",
       "\n",
       "    .dataframe thead th {\n",
       "        text-align: right;\n",
       "    }\n",
       "</style>\n",
       "<table border=\"1\" class=\"dataframe\">\n",
       "  <thead>\n",
       "    <tr style=\"text-align: right;\">\n",
       "      <th></th>\n",
       "      <th>sku</th>\n",
       "      <th>asin</th>\n",
       "      <th>product_type_name</th>\n",
       "      <th>formatted_price</th>\n",
       "      <th>author</th>\n",
       "      <th>color</th>\n",
       "      <th>brand</th>\n",
       "      <th>publisher</th>\n",
       "      <th>availability</th>\n",
       "      <th>reviews</th>\n",
       "      <th>large_image_url</th>\n",
       "      <th>availability_type</th>\n",
       "      <th>small_image_url</th>\n",
       "      <th>editorial_review</th>\n",
       "      <th>title</th>\n",
       "      <th>model</th>\n",
       "      <th>medium_image_url</th>\n",
       "      <th>manufacturer</th>\n",
       "      <th>editorial_reivew</th>\n",
       "    </tr>\n",
       "  </thead>\n",
       "  <tbody>\n",
       "    <tr>\n",
       "      <th>41169</th>\n",
       "      <td>None</td>\n",
       "      <td>B0741VNMBK</td>\n",
       "      <td>DRESS</td>\n",
       "      <td>None</td>\n",
       "      <td>None</td>\n",
       "      <td>None</td>\n",
       "      <td>Cheryl Bull Dresses</td>\n",
       "      <td>None</td>\n",
       "      <td>None</td>\n",
       "      <td>[False, https://www.amazon.com/reviews/iframe?...</td>\n",
       "      <td>https://images-na.ssl-images-amazon.com/images...</td>\n",
       "      <td>None</td>\n",
       "      <td>https://images-na.ssl-images-amazon.com/images...</td>\n",
       "      <td>NaN</td>\n",
       "      <td>Cheryl Bull Popular Womens Hot O Neck Slit Lon...</td>\n",
       "      <td>None</td>\n",
       "      <td>https://images-na.ssl-images-amazon.com/images...</td>\n",
       "      <td>None</td>\n",
       "      <td>Welcome to Cheryl Bull store.Our shops bring i...</td>\n",
       "    </tr>\n",
       "  </tbody>\n",
       "</table>\n",
       "</div>"
      ],
      "text/plain": [
       "        sku        asin product_type_name formatted_price author color  \\\n",
       "41169  None  B0741VNMBK             DRESS            None   None  None   \n",
       "\n",
       "                     brand publisher availability  \\\n",
       "41169  Cheryl Bull Dresses      None         None   \n",
       "\n",
       "                                                 reviews  \\\n",
       "41169  [False, https://www.amazon.com/reviews/iframe?...   \n",
       "\n",
       "                                         large_image_url availability_type  \\\n",
       "41169  https://images-na.ssl-images-amazon.com/images...              None   \n",
       "\n",
       "                                         small_image_url editorial_review  \\\n",
       "41169  https://images-na.ssl-images-amazon.com/images...              NaN   \n",
       "\n",
       "                                                   title model  \\\n",
       "41169  Cheryl Bull Popular Womens Hot O Neck Slit Lon...  None   \n",
       "\n",
       "                                        medium_image_url manufacturer  \\\n",
       "41169  https://images-na.ssl-images-amazon.com/images...         None   \n",
       "\n",
       "                                        editorial_reivew  \n",
       "41169  Welcome to Cheryl Bull store.Our shops bring i...  "
      ]
     },
     "execution_count": 6,
     "metadata": {},
     "output_type": "execute_result"
    }
   ],
   "source": [
    "data.sample(1)"
   ]
  },
  {
   "cell_type": "markdown",
   "metadata": {},
   "source": [
    "<b>2.1. Out of 19 features we will only use 6 features - \"asin, product_type_name, color,brand, medium_image_url, title\""
   ]
  },
  {
   "cell_type": "code",
   "execution_count": null,
   "metadata": {},
   "outputs": [],
   "source": [
    "#The title of the products holds the most information, hence we will use it \n",
    "#Other features like sku,author,publisher,availabilty etc are not very useful with respect to our task\n",
    "#Selecting asin, product_type_name, color, brand, small_image_url, title for our model\n",
    "\n",
    "df=data.loc[:,['asin','product_type_name','color','brand','medium_image_url','title']]"
   ]
  },
  {
   "cell_type": "code",
   "execution_count": 8,
   "metadata": {},
   "outputs": [
    {
     "data": {
      "text/html": [
       "<div>\n",
       "<style scoped>\n",
       "    .dataframe tbody tr th:only-of-type {\n",
       "        vertical-align: middle;\n",
       "    }\n",
       "\n",
       "    .dataframe tbody tr th {\n",
       "        vertical-align: top;\n",
       "    }\n",
       "\n",
       "    .dataframe thead th {\n",
       "        text-align: right;\n",
       "    }\n",
       "</style>\n",
       "<table border=\"1\" class=\"dataframe\">\n",
       "  <thead>\n",
       "    <tr style=\"text-align: right;\">\n",
       "      <th></th>\n",
       "      <th>asin</th>\n",
       "      <th>product_type_name</th>\n",
       "      <th>color</th>\n",
       "      <th>brand</th>\n",
       "      <th>medium_image_url</th>\n",
       "      <th>title</th>\n",
       "    </tr>\n",
       "  </thead>\n",
       "  <tbody>\n",
       "    <tr>\n",
       "      <th>132942</th>\n",
       "      <td>B01MTN1Y2A</td>\n",
       "      <td>SHIRT</td>\n",
       "      <td>Deep Turquoise</td>\n",
       "      <td>Celebrity Pink</td>\n",
       "      <td>https://images-na.ssl-images-amazon.com/images...</td>\n",
       "      <td>Celebrity Pink Juniors' Sweatshirt Deep Turquo...</td>\n",
       "    </tr>\n",
       "    <tr>\n",
       "      <th>57574</th>\n",
       "      <td>B01H28442C</td>\n",
       "      <td>SHIRT</td>\n",
       "      <td>None</td>\n",
       "      <td>Russell Athletic</td>\n",
       "      <td>https://images-na.ssl-images-amazon.com/images...</td>\n",
       "      <td>RUSSELL Ladies Casual Short Sleeved Polo Tee S...</td>\n",
       "    </tr>\n",
       "  </tbody>\n",
       "</table>\n",
       "</div>"
      ],
      "text/plain": [
       "              asin product_type_name           color             brand  \\\n",
       "132942  B01MTN1Y2A             SHIRT  Deep Turquoise    Celebrity Pink   \n",
       "57574   B01H28442C             SHIRT            None  Russell Athletic   \n",
       "\n",
       "                                         medium_image_url  \\\n",
       "132942  https://images-na.ssl-images-amazon.com/images...   \n",
       "57574   https://images-na.ssl-images-amazon.com/images...   \n",
       "\n",
       "                                                    title  \n",
       "132942  Celebrity Pink Juniors' Sweatshirt Deep Turquo...  \n",
       "57574   RUSSELL Ladies Casual Short Sleeved Polo Tee S...  "
      ]
     },
     "execution_count": 8,
     "metadata": {},
     "output_type": "execute_result"
    }
   ],
   "source": [
    "#Displaying 2 samples of the new data frame\n",
    "\n",
    "df.sample(2)"
   ]
  },
  {
   "cell_type": "code",
   "execution_count": 9,
   "metadata": {},
   "outputs": [
    {
     "data": {
      "text/plain": [
       "(183138, 6)"
      ]
     },
     "execution_count": 9,
     "metadata": {},
     "output_type": "execute_result"
    }
   ],
   "source": [
    "df.shape\n",
    "#Now we have 6 features and 183186 data points"
   ]
  },
  {
   "cell_type": "markdown",
   "metadata": {},
   "source": [
    "<b>2.2.0 Checking the number of unique asin number"
   ]
  },
  {
   "cell_type": "code",
   "execution_count": 10,
   "metadata": {
    "scrolled": true
   },
   "outputs": [
    {
     "data": {
      "text/plain": [
       "asin    183138\n",
       "dtype: int64"
      ]
     },
     "execution_count": 10,
     "metadata": {},
     "output_type": "execute_result"
    }
   ],
   "source": [
    "df.loc[:,['asin']].nunique()\n",
    "\n",
    "#Since the total data points in out dataset is 183138 and unique asin number is same, hence we dont have duplicate asin number"
   ]
  },
  {
   "cell_type": "markdown",
   "metadata": {},
   "source": [
    "<b>2.2.1 Checking the number of duplicate title"
   ]
  },
  {
   "cell_type": "code",
   "execution_count": 11,
   "metadata": {},
   "outputs": [
    {
     "data": {
      "text/plain": [
       "7153"
      ]
     },
     "execution_count": 11,
     "metadata": {},
     "output_type": "execute_result"
    }
   ],
   "source": [
    "df.shape[0]-df['title'].nunique()\n",
    "#There are total 7153 duplicate titles in our dataframe"
   ]
  },
  {
   "cell_type": "markdown",
   "metadata": {},
   "source": [
    "<b>2.2.2 Checking the number of duplicate medium_image_url"
   ]
  },
  {
   "cell_type": "code",
   "execution_count": 13,
   "metadata": {},
   "outputs": [
    {
     "data": {
      "text/plain": [
       "medium_image_url    170782\n",
       "dtype: int64"
      ]
     },
     "execution_count": 13,
     "metadata": {},
     "output_type": "execute_result"
    }
   ],
   "source": [
    "data.loc[:,['medium_image_url']].nunique()"
   ]
  },
  {
   "cell_type": "markdown",
   "metadata": {},
   "source": [
    "<b>2.2.3 Checking the number of Null rows in our dataframe"
   ]
  },
  {
   "cell_type": "code",
   "execution_count": 16,
   "metadata": {
    "scrolled": true
   },
   "outputs": [
    {
     "data": {
      "text/html": [
       "<div>\n",
       "<style scoped>\n",
       "    .dataframe tbody tr th:only-of-type {\n",
       "        vertical-align: middle;\n",
       "    }\n",
       "\n",
       "    .dataframe tbody tr th {\n",
       "        vertical-align: top;\n",
       "    }\n",
       "\n",
       "    .dataframe thead th {\n",
       "        text-align: right;\n",
       "    }\n",
       "</style>\n",
       "<table border=\"1\" class=\"dataframe\">\n",
       "  <thead>\n",
       "    <tr style=\"text-align: right;\">\n",
       "      <th></th>\n",
       "      <th>asin</th>\n",
       "      <th>product_type_name</th>\n",
       "      <th>color</th>\n",
       "      <th>brand</th>\n",
       "      <th>medium_image_url</th>\n",
       "      <th>title</th>\n",
       "    </tr>\n",
       "  </thead>\n",
       "  <tbody>\n",
       "    <tr>\n",
       "      <th>4</th>\n",
       "      <td>B004GSI2OS</td>\n",
       "      <td>SHIRT</td>\n",
       "      <td>Onyx Black/ Stone</td>\n",
       "      <td>FeatherLite</td>\n",
       "      <td>https://images-na.ssl-images-amazon.com/images...</td>\n",
       "      <td>Featherlite Ladies' Long Sleeve Stain Resistan...</td>\n",
       "    </tr>\n",
       "    <tr>\n",
       "      <th>5</th>\n",
       "      <td>B00TAEHGGS</td>\n",
       "      <td>SHIRT</td>\n",
       "      <td>Grape</td>\n",
       "      <td>Fitscloth</td>\n",
       "      <td>https://images-na.ssl-images-amazon.com/images...</td>\n",
       "      <td>[Fits Cloth] Grape Solid Modern Long Sleeve Pl...</td>\n",
       "    </tr>\n",
       "    <tr>\n",
       "      <th>6</th>\n",
       "      <td>B012YX2ZPI</td>\n",
       "      <td>SHIRT</td>\n",
       "      <td>White</td>\n",
       "      <td>HX-Kingdom Fashion T-shirts</td>\n",
       "      <td>https://images-na.ssl-images-amazon.com/images...</td>\n",
       "      <td>Women's Unique 100% Cotton T - Special Olympic...</td>\n",
       "    </tr>\n",
       "    <tr>\n",
       "      <th>8</th>\n",
       "      <td>B06Y2LCC5S</td>\n",
       "      <td>SHIRT</td>\n",
       "      <td>Black</td>\n",
       "      <td>Fashion2ne1</td>\n",
       "      <td>https://images-na.ssl-images-amazon.com/images...</td>\n",
       "      <td>Standing on His Promises Rhinestones T-Shirt R...</td>\n",
       "    </tr>\n",
       "    <tr>\n",
       "      <th>11</th>\n",
       "      <td>B001LOUGE4</td>\n",
       "      <td>SHIRT</td>\n",
       "      <td>Black</td>\n",
       "      <td>Fitness Etc.</td>\n",
       "      <td>https://images-na.ssl-images-amazon.com/images...</td>\n",
       "      <td>Ladies Cotton Tank 2x1 Ribbed Tank Top</td>\n",
       "    </tr>\n",
       "    <tr>\n",
       "      <th>...</th>\n",
       "      <td>...</td>\n",
       "      <td>...</td>\n",
       "      <td>...</td>\n",
       "      <td>...</td>\n",
       "      <td>...</td>\n",
       "      <td>...</td>\n",
       "    </tr>\n",
       "    <tr>\n",
       "      <th>183124</th>\n",
       "      <td>B01AVN150E</td>\n",
       "      <td>SHIRT</td>\n",
       "      <td>Multi</td>\n",
       "      <td>Sacred Threads</td>\n",
       "      <td>https://images-na.ssl-images-amazon.com/images...</td>\n",
       "      <td>Printed Top in Assorted Colors – One size #215...</td>\n",
       "    </tr>\n",
       "    <tr>\n",
       "      <th>183133</th>\n",
       "      <td>B01MSALTSO</td>\n",
       "      <td>OUTERWEAR</td>\n",
       "      <td>Black</td>\n",
       "      <td>TOOGOO(R)</td>\n",
       "      <td>https://images-na.ssl-images-amazon.com/images...</td>\n",
       "      <td>TOOGOO(R) Women's Tops Spring Autumn Casual Pu...</td>\n",
       "    </tr>\n",
       "    <tr>\n",
       "      <th>183134</th>\n",
       "      <td>B015W98YQK</td>\n",
       "      <td>SHIRT</td>\n",
       "      <td>Monochrome Plaid</td>\n",
       "      <td>VOGUE CODE</td>\n",
       "      <td>https://images-na.ssl-images-amazon.com/images...</td>\n",
       "      <td>VOGUE CODE Vintage V Neck Plaid Shirt Sleevele...</td>\n",
       "    </tr>\n",
       "    <tr>\n",
       "      <th>183135</th>\n",
       "      <td>B075756PGC</td>\n",
       "      <td>SHIRT</td>\n",
       "      <td>Pink</td>\n",
       "      <td>Wrangler</td>\n",
       "      <td>https://images-na.ssl-images-amazon.com/images...</td>\n",
       "      <td>Wrangler George Strait For Her Long Sleeve Pin...</td>\n",
       "    </tr>\n",
       "    <tr>\n",
       "      <th>183136</th>\n",
       "      <td>B074L8FVTT</td>\n",
       "      <td>SHIRT</td>\n",
       "      <td>Rose</td>\n",
       "      <td>susana monaco</td>\n",
       "      <td>https://images-na.ssl-images-amazon.com/images...</td>\n",
       "      <td>Susana Monaco Womens Susana Monoco Sleeveless ...</td>\n",
       "    </tr>\n",
       "  </tbody>\n",
       "</table>\n",
       "<p>64843 rows × 6 columns</p>\n",
       "</div>"
      ],
      "text/plain": [
       "              asin product_type_name              color  \\\n",
       "4       B004GSI2OS             SHIRT  Onyx Black/ Stone   \n",
       "5       B00TAEHGGS             SHIRT              Grape   \n",
       "6       B012YX2ZPI             SHIRT              White   \n",
       "8       B06Y2LCC5S             SHIRT              Black   \n",
       "11      B001LOUGE4             SHIRT              Black   \n",
       "...            ...               ...                ...   \n",
       "183124  B01AVN150E             SHIRT              Multi   \n",
       "183133  B01MSALTSO         OUTERWEAR              Black   \n",
       "183134  B015W98YQK             SHIRT   Monochrome Plaid   \n",
       "183135  B075756PGC             SHIRT               Pink   \n",
       "183136  B074L8FVTT             SHIRT               Rose   \n",
       "\n",
       "                              brand  \\\n",
       "4                       FeatherLite   \n",
       "5                         Fitscloth   \n",
       "6       HX-Kingdom Fashion T-shirts   \n",
       "8                       Fashion2ne1   \n",
       "11                     Fitness Etc.   \n",
       "...                             ...   \n",
       "183124               Sacred Threads   \n",
       "183133                    TOOGOO(R)   \n",
       "183134                   VOGUE CODE   \n",
       "183135                     Wrangler   \n",
       "183136                susana monaco   \n",
       "\n",
       "                                         medium_image_url  \\\n",
       "4       https://images-na.ssl-images-amazon.com/images...   \n",
       "5       https://images-na.ssl-images-amazon.com/images...   \n",
       "6       https://images-na.ssl-images-amazon.com/images...   \n",
       "8       https://images-na.ssl-images-amazon.com/images...   \n",
       "11      https://images-na.ssl-images-amazon.com/images...   \n",
       "...                                                   ...   \n",
       "183124  https://images-na.ssl-images-amazon.com/images...   \n",
       "183133  https://images-na.ssl-images-amazon.com/images...   \n",
       "183134  https://images-na.ssl-images-amazon.com/images...   \n",
       "183135  https://images-na.ssl-images-amazon.com/images...   \n",
       "183136  https://images-na.ssl-images-amazon.com/images...   \n",
       "\n",
       "                                                    title  \n",
       "4       Featherlite Ladies' Long Sleeve Stain Resistan...  \n",
       "5       [Fits Cloth] Grape Solid Modern Long Sleeve Pl...  \n",
       "6       Women's Unique 100% Cotton T - Special Olympic...  \n",
       "8       Standing on His Promises Rhinestones T-Shirt R...  \n",
       "11                 Ladies Cotton Tank 2x1 Ribbed Tank Top  \n",
       "...                                                   ...  \n",
       "183124  Printed Top in Assorted Colors – One size #215...  \n",
       "183133  TOOGOO(R) Women's Tops Spring Autumn Casual Pu...  \n",
       "183134  VOGUE CODE Vintage V Neck Plaid Shirt Sleevele...  \n",
       "183135  Wrangler George Strait For Her Long Sleeve Pin...  \n",
       "183136  Susana Monaco Womens Susana Monoco Sleeveless ...  \n",
       "\n",
       "[64843 rows x 6 columns]"
      ]
     },
     "execution_count": 16,
     "metadata": {},
     "output_type": "execute_result"
    }
   ],
   "source": [
    "#Checking how many rows are have no null values\n",
    "df[~df.isna().any(axis=1)]\n",
    "\n",
    "#There are 64843 rows which dont have null values, we will use these rows for further processes"
   ]
  },
  {
   "cell_type": "markdown",
   "metadata": {},
   "source": [
    "<b>2.2.4 Saving the 64k data points"
   ]
  },
  {
   "cell_type": "code",
   "execution_count": 59,
   "metadata": {},
   "outputs": [],
   "source": [
    "#Saving 64k rows\n",
    "df=df[~df.isna().any(axis=1)].sort_values(by=[\"title\"]) \n",
    "\n",
    "#We have saved data with sorting the title\n",
    "df.to_pickle('G:\\Jupyter Notebook\\Amazon recommendor\\64k_apparel_data')"
   ]
  },
  {
   "cell_type": "markdown",
   "metadata": {},
   "source": [
    "<b>2.2.5 Dropping the rows that have duplicate image URL"
   ]
  },
  {
   "cell_type": "code",
   "execution_count": 62,
   "metadata": {
    "scrolled": true
   },
   "outputs": [
    {
     "data": {
      "text/html": [
       "<div>\n",
       "<style scoped>\n",
       "    .dataframe tbody tr th:only-of-type {\n",
       "        vertical-align: middle;\n",
       "    }\n",
       "\n",
       "    .dataframe tbody tr th {\n",
       "        vertical-align: top;\n",
       "    }\n",
       "\n",
       "    .dataframe thead th {\n",
       "        text-align: right;\n",
       "    }\n",
       "</style>\n",
       "<table border=\"1\" class=\"dataframe\">\n",
       "  <thead>\n",
       "    <tr style=\"text-align: right;\">\n",
       "      <th></th>\n",
       "      <th>asin</th>\n",
       "      <th>product_type_name</th>\n",
       "      <th>color</th>\n",
       "      <th>brand</th>\n",
       "      <th>medium_image_url</th>\n",
       "      <th>title</th>\n",
       "    </tr>\n",
       "  </thead>\n",
       "  <tbody>\n",
       "    <tr>\n",
       "      <th>68008</th>\n",
       "      <td>B01LXRS563</td>\n",
       "      <td>SHIRT</td>\n",
       "      <td>Green</td>\n",
       "      <td>Faithful Findings</td>\n",
       "      <td>https://images-na.ssl-images-amazon.com/images...</td>\n",
       "      <td>#Hope, Women's Jr Size Tee, Religious, Faith-I...</td>\n",
       "    </tr>\n",
       "    <tr>\n",
       "      <th>132703</th>\n",
       "      <td>B01LXRRR0B</td>\n",
       "      <td>SHIRT</td>\n",
       "      <td>Gray</td>\n",
       "      <td>Faithful Findings</td>\n",
       "      <td>https://images-na.ssl-images-amazon.com/images...</td>\n",
       "      <td>#Love, Women's Jr Size Tee, Religious, Faith-I...</td>\n",
       "    </tr>\n",
       "    <tr>\n",
       "      <th>70689</th>\n",
       "      <td>B00UUEQ8AC</td>\n",
       "      <td>SHIRT</td>\n",
       "      <td>B318 SD_BLACK</td>\n",
       "      <td>GLJ TRADING</td>\n",
       "      <td>https://images-na.ssl-images-amazon.com/images...</td>\n",
       "      <td>(Plus Size) Cutout Crochet Lined Tunic with Ch...</td>\n",
       "    </tr>\n",
       "    <tr>\n",
       "      <th>106504</th>\n",
       "      <td>B013PQW6CK</td>\n",
       "      <td>SHIRT</td>\n",
       "      <td>Mocha</td>\n",
       "      <td>GLJ TRADING</td>\n",
       "      <td>https://images-na.ssl-images-amazon.com/images...</td>\n",
       "      <td>(Plus Size) Solid Color Long Sleeve Asymmetric...</td>\n",
       "    </tr>\n",
       "    <tr>\n",
       "      <th>127007</th>\n",
       "      <td>B013PQW50S</td>\n",
       "      <td>SHIRT</td>\n",
       "      <td>Mocha</td>\n",
       "      <td>GLJ TRADING</td>\n",
       "      <td>https://images-na.ssl-images-amazon.com/images...</td>\n",
       "      <td>(Plus Size) Solid Color Long Sleeve Asymmetric...</td>\n",
       "    </tr>\n",
       "    <tr>\n",
       "      <th>...</th>\n",
       "      <td>...</td>\n",
       "      <td>...</td>\n",
       "      <td>...</td>\n",
       "      <td>...</td>\n",
       "      <td>...</td>\n",
       "      <td>...</td>\n",
       "    </tr>\n",
       "    <tr>\n",
       "      <th>108937</th>\n",
       "      <td>B074PJZFPQ</td>\n",
       "      <td>SHIRT</td>\n",
       "      <td>Red</td>\n",
       "      <td>General</td>\n",
       "      <td>https://images-na.ssl-images-amazon.com/images...</td>\n",
       "      <td>shirts</td>\n",
       "    </tr>\n",
       "    <tr>\n",
       "      <th>140760</th>\n",
       "      <td>B074HZVQRL</td>\n",
       "      <td>SHIRT</td>\n",
       "      <td>Yellow</td>\n",
       "      <td>General</td>\n",
       "      <td>https://images-na.ssl-images-amazon.com/images...</td>\n",
       "      <td>shirts</td>\n",
       "    </tr>\n",
       "    <tr>\n",
       "      <th>109757</th>\n",
       "      <td>B074J7886V</td>\n",
       "      <td>SHIRT</td>\n",
       "      <td>Blue</td>\n",
       "      <td>General</td>\n",
       "      <td>https://images-na.ssl-images-amazon.com/images...</td>\n",
       "      <td>shirts</td>\n",
       "    </tr>\n",
       "    <tr>\n",
       "      <th>40665</th>\n",
       "      <td>B01DF4EV8E</td>\n",
       "      <td>SHIRT</td>\n",
       "      <td>Black</td>\n",
       "      <td>Vihaan Impex</td>\n",
       "      <td>https://images-na.ssl-images-amazon.com/images...</td>\n",
       "      <td>vihaan impex kurtis for women indian kurti for...</td>\n",
       "    </tr>\n",
       "    <tr>\n",
       "      <th>39370</th>\n",
       "      <td>B01N2YYP4H</td>\n",
       "      <td>SHIRT</td>\n",
       "      <td>Grey</td>\n",
       "      <td>Vihaan Impex</td>\n",
       "      <td>https://images-na.ssl-images-amazon.com/images...</td>\n",
       "      <td>vihaan impex kurtis for women indian kurti for...</td>\n",
       "    </tr>\n",
       "  </tbody>\n",
       "</table>\n",
       "<p>3275 rows × 6 columns</p>\n",
       "</div>"
      ],
      "text/plain": [
       "              asin product_type_name          color              brand  \\\n",
       "68008   B01LXRS563             SHIRT          Green  Faithful Findings   \n",
       "132703  B01LXRRR0B             SHIRT           Gray  Faithful Findings   \n",
       "70689   B00UUEQ8AC             SHIRT  B318 SD_BLACK        GLJ TRADING   \n",
       "106504  B013PQW6CK             SHIRT          Mocha        GLJ TRADING   \n",
       "127007  B013PQW50S             SHIRT          Mocha        GLJ TRADING   \n",
       "...            ...               ...            ...                ...   \n",
       "108937  B074PJZFPQ             SHIRT            Red            General   \n",
       "140760  B074HZVQRL             SHIRT         Yellow            General   \n",
       "109757  B074J7886V             SHIRT           Blue            General   \n",
       "40665   B01DF4EV8E             SHIRT          Black       Vihaan Impex   \n",
       "39370   B01N2YYP4H             SHIRT           Grey       Vihaan Impex   \n",
       "\n",
       "                                         medium_image_url  \\\n",
       "68008   https://images-na.ssl-images-amazon.com/images...   \n",
       "132703  https://images-na.ssl-images-amazon.com/images...   \n",
       "70689   https://images-na.ssl-images-amazon.com/images...   \n",
       "106504  https://images-na.ssl-images-amazon.com/images...   \n",
       "127007  https://images-na.ssl-images-amazon.com/images...   \n",
       "...                                                   ...   \n",
       "108937  https://images-na.ssl-images-amazon.com/images...   \n",
       "140760  https://images-na.ssl-images-amazon.com/images...   \n",
       "109757  https://images-na.ssl-images-amazon.com/images...   \n",
       "40665   https://images-na.ssl-images-amazon.com/images...   \n",
       "39370   https://images-na.ssl-images-amazon.com/images...   \n",
       "\n",
       "                                                    title  \n",
       "68008   #Hope, Women's Jr Size Tee, Religious, Faith-I...  \n",
       "132703  #Love, Women's Jr Size Tee, Religious, Faith-I...  \n",
       "70689   (Plus Size) Cutout Crochet Lined Tunic with Ch...  \n",
       "106504  (Plus Size) Solid Color Long Sleeve Asymmetric...  \n",
       "127007  (Plus Size) Solid Color Long Sleeve Asymmetric...  \n",
       "...                                                   ...  \n",
       "108937                                             shirts  \n",
       "140760                                             shirts  \n",
       "109757                                             shirts  \n",
       "40665   vihaan impex kurtis for women indian kurti for...  \n",
       "39370   vihaan impex kurtis for women indian kurti for...  \n",
       "\n",
       "[3275 rows x 6 columns]"
      ]
     },
     "execution_count": 62,
     "metadata": {},
     "output_type": "execute_result"
    }
   ],
   "source": [
    "#Check if we have duplicate image url\n",
    "df[df.loc[:].duplicated(subset='title',keep='first')]\n",
    "#We have 3275 rows that have duplicate titles\n",
    "#Lets drop the rows that have duplicate titles"
   ]
  },
  {
   "cell_type": "markdown",
   "metadata": {},
   "source": [
    "<b>2.2.6 Removing the rows that have duplicate titles"
   ]
  },
  {
   "cell_type": "code",
   "execution_count": 75,
   "metadata": {},
   "outputs": [],
   "source": [
    "#Saving the index of rows that are duplicate\n",
    "index_title_duplicate = df[df.loc[:].duplicated(subset='title',keep='first')].index\n",
    "\n",
    "#Removing the data points that have duplicate title\n",
    "df = df.drop(index_title_duplicate)"
   ]
  },
  {
   "cell_type": "markdown",
   "metadata": {},
   "source": [
    "<b>2.2.7 Saving the new 61k data points"
   ]
  },
  {
   "cell_type": "code",
   "execution_count": 78,
   "metadata": {},
   "outputs": [],
   "source": [
    "#Saving this updated dataframe in pickle file\n",
    "df.reset_index(inplace=True)\n",
    "df.to_pickle('G:\\Jupyter Notebook\\\\Amazon recommendor\\\\pickles\\\\61k_apparel_data')"
   ]
  },
  {
   "cell_type": "markdown",
   "metadata": {},
   "source": [
    "<b>2.2.8 On further inspection we can seen that there are many titles that look very similar</b>\n",
    "<ul>\n",
    "    <li>We will inspect row 61465 and 61566</li>\n",
    "    <li>we will inspect row 18,19 and 20</li>\n",
    "    <li>we will inspect row 34 an 35</li>\n",
    "    <li>we will remove the rows that have very similar title</li>"
   ]
  },
  {
   "cell_type": "code",
   "execution_count": 92,
   "metadata": {},
   "outputs": [],
   "source": [
    "#Lets do further inspection of row number 61565 and 61566\n",
    "rows=df.loc[[61565,61566],['medium_image_url','title']].values"
   ]
  },
  {
   "cell_type": "code",
   "execution_count": 96,
   "metadata": {
    "scrolled": true
   },
   "outputs": [
    {
     "name": "stdout",
     "output_type": "stream",
     "text": [
      "Title\n",
      "✽ANGLIN✽ Women Striped Floral Long Sleeve Round Neck Shirt Top Blouse\n",
      "✽ANGLIN✽ Women Striped Floral Long Sleeve Round Neck Shirt Top Blouse (L)\n",
      "********************************************************************************\n",
      "Image URL\n",
      "https://images-na.ssl-images-amazon.com/images/I/41C4l8B%2BMYL._SL160_.jpg\n",
      "https://images-na.ssl-images-amazon.com/images/I/41mGx0VwrbL._SL160_.jpg\n"
     ]
    }
   ],
   "source": [
    "print(\"Title\")\n",
    "print(rows[0][1])\n",
    "print(rows[1][1])\n",
    "\n",
    "print(\"*\"*80)\n",
    "print(\"Image URL\")\n",
    "print(rows[0][0])\n",
    "print(rows[1][0])\n",
    "\n",
    "#Here if we see the titles are very similar except the \"L\" character"
   ]
  },
  {
   "cell_type": "code",
   "execution_count": 222,
   "metadata": {},
   "outputs": [],
   "source": [
    "#This method is used to display image \n",
    "#The image_list_URL contains the URL and title of the query ID\n",
    "\n",
    "def display_image(image_list_URL):\n",
    "    \n",
    "    #Setting the figure size\n",
    "    fig,ax = plt.subplots(1,len(image_list_URL))\n",
    "    fig.set_figwidth(15)\n",
    "    \n",
    "    #This loop will iterate through all the values in image_list_URL\n",
    "    for i in range(len(image_list_URL)):\n",
    "        URL = str(image_list_URL[i])\n",
    "        print(URL)\n",
    "        response = requests.get(image_list_URL[i][0])\n",
    "        img = Image.open(BytesIO(response.content))\n",
    "        \n",
    "        ax[i].imshow(img)\n",
    "        ax[i].set_xticks([])\n",
    "        ax[i].set_yticks([])\n",
    "        \n",
    "        plt.show()\n",
    "    "
   ]
  },
  {
   "cell_type": "code",
   "execution_count": 217,
   "metadata": {},
   "outputs": [],
   "source": [
    "#Saving the 61k data points\n",
    "\n",
    "df.to_pickle('G:\\Jupyter Notebook\\\\Amazon recommendor\\\\pickles\\\\61k_apparel_data')"
   ]
  },
  {
   "cell_type": "code",
   "execution_count": 223,
   "metadata": {},
   "outputs": [
    {
     "name": "stdout",
     "output_type": "stream",
     "text": [
      "['https://images-na.ssl-images-amazon.com/images/I/41T-H36b15L._SL160_.jpg'\n",
      " '\"Life is a Journey\" Self-Help DIY T-Shirt (Women,Silver,Female Large)']\n",
      "['https://images-na.ssl-images-amazon.com/images/I/41T-H36b15L._SL160_.jpg'\n",
      " '\"Life is a Journey\" Self-Help DIY T-Shirt (Women,Silver,Female X-Large)']\n",
      "['https://images-na.ssl-images-amazon.com/images/I/31eH391lX0L._SL160_.jpg'\n",
      " '\"Life is a Journey\" Self-Help DIY T-Shirt (Women,White,Female X-Large)']\n"
     ]
    },
    {
     "data": {
      "image/png": "[encoded data removed]",
      "text/plain": [
       "<Figure size 1080x288 with 3 Axes>"
      ]
     },
     "metadata": {},
     "output_type": "display_data"
    }
   ],
   "source": [
    "display_image(df.loc[[18,19,20],['medium_image_url','title']].values)\n",
    "\n",
    "#Here we can see that the title is almost same which just few words changed, also in this case the query image is also\n",
    "#very similar"
   ]
  },
  {
   "cell_type": "code",
   "execution_count": 224,
   "metadata": {},
   "outputs": [
    {
     "name": "stdout",
     "output_type": "stream",
     "text": [
      "['https://images-na.ssl-images-amazon.com/images/I/51%2B0L0c7N0L._SL160_.jpg'\n",
      " '#Hope, Inspirational, Ladies Raglan, Christian Tee, Fuchsia']\n",
      "['https://images-na.ssl-images-amazon.com/images/I/41fNMA-YCyL._SL160_.jpg'\n",
      " '#Hope, Inspirational, Ladies Raglan, Christian Tee, White']\n"
     ]
    },
    {
     "data": {
      "image/png": "[encoded data removed]",
      "text/plain": [
       "<Figure size 1080x288 with 2 Axes>"
      ]
     },
     "metadata": {},
     "output_type": "display_data"
    }
   ],
   "source": [
    "display_image(df.loc[[34,35],['medium_image_url','title']].values)\n",
    "\n",
    "#Here we can see that the title is almost same which just few words changed, also in this case the query image is also\n",
    "#very similar"
   ]
  },
  {
   "cell_type": "markdown",
   "metadata": {},
   "source": [
    "<h4>Conclusion :</h4>\n",
    "<h4>From above examples we can see that, there are few data points which has almost same title and the image is also very similar</h4>\n",
    "    \n",
    "<b>We will remove such rows which are almost duplicate</b>"
   ]
  },
  {
   "cell_type": "code",
   "execution_count": 5,
   "metadata": {},
   "outputs": [],
   "source": [
    "#Loading the data\n",
    "data = pd.read_pickle('pickles\\\\61k_apparel_data')"
   ]
  },
  {
   "cell_type": "code",
   "execution_count": 5,
   "metadata": {},
   "outputs": [],
   "source": [
    "#This method removes title based on the similarity between 2 sentences\n",
    "#The title_list argument takes a list of of titles - in this case we will give all the titles from the dataframe\n",
    "#the similar_title argumnets take value ranging from 0.0 to 1.00\n",
    "\n",
    "def remove_similar_title(title_list,similar_percent=0.85):\n",
    "    \n",
    "    #this variable will hold the latest ID of title that are very similar\n",
    "    to_drop=[]\n",
    "    \n",
    "    counter=0\n",
    "    for i in tqdm(range(len(title_list))):\n",
    "        \n",
    "        if(counter>0):\n",
    "            counter=counter-1\n",
    "            continue\n",
    "\n",
    "        for j in range(i+1,len(title_list)):\n",
    "            \n",
    "            #To calculate the similarity between 2 sentence we wiill use SequenceMatcher from difflib\n",
    "            s = SequenceMatcher(None,title_list[i], title_list[j]).ratio()\n",
    "\n",
    "            if(s>0.85 and s!=1.0):\n",
    "\n",
    "                to_drop.append(j)\n",
    "                counter=counter+1\n",
    "            else:\n",
    "                break\n",
    "    return  list(set(to_drop))"
   ]
  },
  {
   "cell_type": "code",
   "execution_count": 14,
   "metadata": {},
   "outputs": [
    {
     "data": {
      "application/vnd.jupyter.widget-view+json": {
       "model_id": "43c0c47dea7a46979c436331e39abc6f",
       "version_major": 2,
       "version_minor": 0
      },
      "text/plain": [
       "HBox(children=(FloatProgress(value=0.0, max=61568.0), HTML(value='')))"
      ]
     },
     "metadata": {},
     "output_type": "display_data"
    },
    {
     "name": "stdout",
     "output_type": "stream",
     "text": [
      "\n"
     ]
    }
   ],
   "source": [
    "#Making a list out of all the title available in our dataframe\n",
    "title_list = [i[0] for i in data.loc[:,['title']].values.tolist()]\n",
    "\n",
    "#Running the remove_similar_title method to get the IDs that have similar title\n",
    "index_to_remove = remove_similar_title(title_list)"
   ]
  },
  {
   "cell_type": "code",
   "execution_count": 17,
   "metadata": {},
   "outputs": [],
   "source": [
    "#Removing the rows that have very similar titles\n",
    "data.drop(index_to_remove,inplace=True)"
   ]
  },
  {
   "cell_type": "code",
   "execution_count": 19,
   "metadata": {},
   "outputs": [],
   "source": [
    "#Saving the 48k data for further \n",
    "data.to_pickle('G:\\Jupyter Notebook\\Amazon recommendor\\\\pickles\\\\48k_apparel_data')\n",
    "\n",
    "#This is the file that we will use to make further progress"
   ]
  },
  {
   "cell_type": "code",
   "execution_count": null,
   "metadata": {},
   "outputs": [],
   "source": []
  }
 ],
 "metadata": {
  "kernelspec": {
   "display_name": "Python 3",
   "language": "python",
   "name": "python3"
  },
  "language_info": {
   "codemirror_mode": {
    "name": "ipython",
    "version": 3
   },
   "file_extension": ".py",
   "mimetype": "text/x-python",
   "name": "python",
   "nbconvert_exporter": "python",
   "pygments_lexer": "ipython3",
   "version": "3.7.6"
  }
 },
 "nbformat": 4,
 "nbformat_minor": 4
}
